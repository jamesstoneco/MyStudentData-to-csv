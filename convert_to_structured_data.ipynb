{
 "cells": [
  {
   "cell_type": "code",
   "execution_count": 10,
   "metadata": {},
   "outputs": [],
   "source": [
    "cols = ['Loan Type:',\n",
    "'Loan Award ID:',\n",
    "'Loan Attending School Name:',\n",
    "'Loan Date:',\n",
    "'Loan Amount:',\n",
    "'Loan Disbursed Amount:',\n",
    "'Loan Outstanding Principal Balance:',\n",
    "'Loan Outstanding Interest Balance:',\n",
    "'Loan Interest Rate Type:',\n",
    "'Loan Interest Rate:',\n",
    "'Loan Contact Name:']"
   ]
  },
  {
   "cell_type": "code",
   "execution_count": 11,
   "metadata": {},
   "outputs": [],
   "source": [
    "delimiter = 'Loan Type:'\n",
    "loans = open('MyStudentData.txt', 'r').read().split(delimiter)"
   ]
  },
  {
   "cell_type": "code",
   "execution_count": 12,
   "metadata": {},
   "outputs": [
    {
     "data": {
      "text/plain": [
       "'File Source:U.S. DEPARTMENT OF EDUCATION, NATIONAL STUDENT LOAN DATA SYSTEM (NSLDS)\\nFile Request Date:2020-09-28-05.53.32.292\\nStudent First Name:MARIA\\nStudent Middle Initial:\\nStudent Last Name:BABAKHANYAN\\nStudent Street Address 1:123 EAST SAN CARLOS STREET #266\\nStudent Street Address 2:\\nStudent City:SAN JOSE\\nStudent State Code:CA\\nStudent Country Code:US\\nStudent Zip Code:95112\\nStudent Email Address:sndik16@GMAIL.COM\\nStudent Home Phone Country Code:1\\nStudent Home Phone Number:4159176460\\nStudent Home Phone Preferred:No\\nStudent Cell Phone Country Code:1\\nStudent Cell Phone Number:8145315055\\nStudent Cell Phone Preferred:Yes\\nStudent Work Phone Country Code:\\nStudent Work Phone Number:\\nStudent Work Phone Preferred:\\nStudent SULA Maximum Eligibility Period:0.0\\nStudent SULA Subsidized Usage Period:0.0\\nStudent SULA Remaining Eligibility Period:0.0\\nStudent Enrollment Status:GRADUATED\\nStudent Enrollment Status Effective Date:05/16/2017\\nStudent Total All Loans Outstanding Principal:$176,903\\nStudent Total All Loans Outstanding Interest:$55,364\\nStudent Pell Lifetime Eligibility Used:162.523%\\nStudent Iraq and Afghanistan Service Lifetime Eligibility Used:0.000%\\nStudent Total All Grants:$7,564\\nTotal DIRECT PLUS GRADUATE Outstanding Principal:$30,209\\nTotal DIRECT PLUS GRADUATE Outstanding Interest:$9,389\\nTotal DIRECT STAFFORD UNSUBSIDIZED Outstanding Principal:$102,922\\nTotal DIRECT STAFFORD UNSUBSIDIZED Outstanding Interest:$37,463\\nTotal DIRECT STAFFORD SUBSIDIZED Outstanding Principal:$12,906\\nTotal DIRECT STAFFORD SUBSIDIZED Outstanding Interest:$238\\nTotal FFEL STAFFORD UNSUBSIDIZED Outstanding Principal:$15,764\\nTotal FFEL STAFFORD UNSUBSIDIZED Outstanding Interest:$8,100\\nTotal FFEL STAFFORD SUBSIDIZED Outstanding Principal:$11,116\\nTotal FFEL STAFFORD SUBSIDIZED Outstanding Interest:$174\\nTotal FEDERAL PERKINS Outstanding Principal:$3,986\\nTotal FEDERAL PERKINS Outstanding Interest:$0\\n'"
      ]
     },
     "execution_count": 12,
     "metadata": {},
     "output_type": "execute_result"
    }
   ],
   "source": [
    "loans.pop(0) # remove header info"
   ]
  },
  {
   "cell_type": "code",
   "execution_count": 13,
   "metadata": {},
   "outputs": [],
   "source": [
    "# devide by each loan\n",
    "proc_loans = []\n",
    "for l in loans:\n",
    "    proc_loans.append((delimiter + l).split('\\n'))"
   ]
  },
  {
   "cell_type": "code",
   "execution_count": 14,
   "metadata": {},
   "outputs": [],
   "source": [
    "# rangle data into consistent format for pandas\n",
    "data = []\n",
    "for p in proc_loans:\n",
    "    temp_loan = []\n",
    "    for c in cols:\n",
    "        for line in p:\n",
    "            if line.startswith(c):\n",
    "                # strip dollar signs and commas and % so they end up as floats\n",
    "                temp_loan.append(line.split(':')[1].replace('$', '').replace(',', '').replace('%', ''))\n",
    "    # HACK: pull off extra loan contact names and only retain the first one\n",
    "    if len(temp_loan) > 11:\n",
    "        for n in range(len(temp_loan) - 11):\n",
    "            temp_loan.pop()\n",
    "    data.append(temp_loan)\n",
    "# data"
   ]
  },
  {
   "cell_type": "code",
   "execution_count": 15,
   "metadata": {},
   "outputs": [],
   "source": [
    "import pandas as pd"
   ]
  },
  {
   "cell_type": "code",
   "execution_count": 16,
   "metadata": {},
   "outputs": [],
   "source": [
    "df = pd.DataFrame.from_records(data, columns=list(map(lambda c: c.replace(':', ''), cols)), coerce_float=True)"
   ]
  },
  {
   "cell_type": "code",
   "execution_count": 17,
   "metadata": {},
   "outputs": [],
   "source": [
    "# convert date\n",
    "df['Loan Date'] = df['Loan Date'].astype('datetime64')\n",
    "# convert floats\n",
    "cols_to_floats = [\n",
    "    'Loan Amount',\n",
    "    'Loan Disbursed Amount',\n",
    "    'Loan Outstanding Principal Balance',\n",
    "    'Loan Outstanding Interest Balance',\n",
    "#     'Loan Interest Rate:' # NOTE: there are blanks in my data, so would need to account for this to convert to a float\n",
    "]\n",
    "for c in cols_to_floats:\n",
    "    df[c] = df[c].astype('float')"
   ]
  },
  {
   "cell_type": "code",
   "execution_count": 18,
   "metadata": {},
   "outputs": [
    {
     "data": {
      "text/html": [
       "<div>\n",
       "<style scoped>\n",
       "    .dataframe tbody tr th:only-of-type {\n",
       "        vertical-align: middle;\n",
       "    }\n",
       "\n",
       "    .dataframe tbody tr th {\n",
       "        vertical-align: top;\n",
       "    }\n",
       "\n",
       "    .dataframe thead th {\n",
       "        text-align: right;\n",
       "    }\n",
       "</style>\n",
       "<table border=\"1\" class=\"dataframe\">\n",
       "  <thead>\n",
       "    <tr style=\"text-align: right;\">\n",
       "      <th></th>\n",
       "      <th>Loan Amount</th>\n",
       "      <th>Loan Disbursed Amount</th>\n",
       "      <th>Loan Outstanding Principal Balance</th>\n",
       "      <th>Loan Outstanding Interest Balance</th>\n",
       "    </tr>\n",
       "  </thead>\n",
       "  <tbody>\n",
       "    <tr>\n",
       "      <th>count</th>\n",
       "      <td>25.000000</td>\n",
       "      <td>25.000000</td>\n",
       "      <td>25.000000</td>\n",
       "      <td>25.000000</td>\n",
       "    </tr>\n",
       "    <tr>\n",
       "      <th>mean</th>\n",
       "      <td>6908.360000</td>\n",
       "      <td>6908.360000</td>\n",
       "      <td>7076.120000</td>\n",
       "      <td>2214.560000</td>\n",
       "    </tr>\n",
       "    <tr>\n",
       "      <th>std</th>\n",
       "      <td>6064.693314</td>\n",
       "      <td>6064.693314</td>\n",
       "      <td>6066.422864</td>\n",
       "      <td>2607.676298</td>\n",
       "    </tr>\n",
       "    <tr>\n",
       "      <th>min</th>\n",
       "      <td>265.000000</td>\n",
       "      <td>265.000000</td>\n",
       "      <td>265.000000</td>\n",
       "      <td>0.000000</td>\n",
       "    </tr>\n",
       "    <tr>\n",
       "      <th>25%</th>\n",
       "      <td>2791.000000</td>\n",
       "      <td>2791.000000</td>\n",
       "      <td>2791.000000</td>\n",
       "      <td>159.000000</td>\n",
       "    </tr>\n",
       "    <tr>\n",
       "      <th>50%</th>\n",
       "      <td>5500.000000</td>\n",
       "      <td>5500.000000</td>\n",
       "      <td>5560.000000</td>\n",
       "      <td>1185.000000</td>\n",
       "    </tr>\n",
       "    <tr>\n",
       "      <th>75%</th>\n",
       "      <td>7584.000000</td>\n",
       "      <td>7584.000000</td>\n",
       "      <td>8349.000000</td>\n",
       "      <td>3810.000000</td>\n",
       "    </tr>\n",
       "    <tr>\n",
       "      <th>max</th>\n",
       "      <td>20500.000000</td>\n",
       "      <td>20500.000000</td>\n",
       "      <td>20500.000000</td>\n",
       "      <td>10012.000000</td>\n",
       "    </tr>\n",
       "  </tbody>\n",
       "</table>\n",
       "</div>"
      ],
      "text/plain": [
       "        Loan Amount  Loan Disbursed Amount  \\\n",
       "count     25.000000              25.000000   \n",
       "mean    6908.360000            6908.360000   \n",
       "std     6064.693314            6064.693314   \n",
       "min      265.000000             265.000000   \n",
       "25%     2791.000000            2791.000000   \n",
       "50%     5500.000000            5500.000000   \n",
       "75%     7584.000000            7584.000000   \n",
       "max    20500.000000           20500.000000   \n",
       "\n",
       "       Loan Outstanding Principal Balance  Loan Outstanding Interest Balance  \n",
       "count                           25.000000                          25.000000  \n",
       "mean                          7076.120000                        2214.560000  \n",
       "std                           6066.422864                        2607.676298  \n",
       "min                            265.000000                           0.000000  \n",
       "25%                           2791.000000                         159.000000  \n",
       "50%                           5560.000000                        1185.000000  \n",
       "75%                           8349.000000                        3810.000000  \n",
       "max                          20500.000000                       10012.000000  "
      ]
     },
     "execution_count": 18,
     "metadata": {},
     "output_type": "execute_result"
    }
   ],
   "source": [
    "df.describe()"
   ]
  },
  {
   "cell_type": "code",
   "execution_count": 19,
   "metadata": {},
   "outputs": [],
   "source": [
    "df.to_csv('output.csv', index = True)"
   ]
  },
  {
   "cell_type": "code",
   "execution_count": null,
   "metadata": {},
   "outputs": [],
   "source": []
  }
 ],
 "metadata": {
  "kernelspec": {
   "display_name": "Python 3",
   "language": "python",
   "name": "python3"
  },
  "language_info": {
   "codemirror_mode": {
    "name": "ipython",
    "version": 3
   },
   "file_extension": ".py",
   "mimetype": "text/x-python",
   "name": "python",
   "nbconvert_exporter": "python",
   "pygments_lexer": "ipython3",
   "version": "3.7.0"
  }
 },
 "nbformat": 4,
 "nbformat_minor": 2
}
